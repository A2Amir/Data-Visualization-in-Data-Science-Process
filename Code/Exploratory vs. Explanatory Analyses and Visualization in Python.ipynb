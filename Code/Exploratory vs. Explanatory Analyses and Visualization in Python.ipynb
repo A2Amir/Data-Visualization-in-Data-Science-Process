{
 "cells": [
  {
   "cell_type": "markdown",
   "metadata": {},
   "source": [
    "# Exploratory vs. Explanatory Analyses"
   ]
  },
  {
   "cell_type": "markdown",
   "metadata": {},
   "source": [
    "There are two main reasons for creating visuals using data:\n",
    "\n",
    "   * Exploratory analysis is done when you are searching for insights. These visualizations don't need to be perfect. You are using plots to find insights, but they don't need to be aesthetically appealing. You are the consumer of these plots, and you need to be able to find the answer to your questions from these plots.\n"
   ]
  },
  {
   "cell_type": "markdown",
   "metadata": {},
   "source": [
    "<div >\n",
    "<img src=\"../img/2.PNG\" alt=\"\" width=\"500\" height=\"400\" align=\"right\">\n",
    "</div>\n"
   ]
  },
  {
   "cell_type": "markdown",
   "metadata": {},
   "source": [
    "\n",
    "\n",
    "   * Explanatory analysis is done when you are providing your results for others. These visualizations need to provide you the emphasis necessary to convey your message. They should be accurate, insightful, and visually appealing.\n",
    "   \n",
    "   \n",
    "<div >\n",
    "<img src=\"../img/3.PNG\" alt=\"\" width=\"500\" height=\"400\" align=\"right\">\n",
    "</div>\n"
   ]
  },
  {
   "cell_type": "markdown",
   "metadata": {},
   "source": [
    "The five steps of the data analysis process:\n",
    "\n",
    "   * Extract - Obtain the data from a spreadsheet, SQL, the web, etc.\n",
    "\n",
    "   * Clean - Here we could use exploratory visuals.\n",
    "\n",
    "   * Explore - Here we use exploratory visuals.\n",
    "\n",
    "   * Analyze - Here we might use either exploratory or explanatory visuals.\n",
    "   \n",
    "   * Share - Here is where explanatory visuals live."
   ]
  },
  {
   "cell_type": "markdown",
   "metadata": {},
   "source": [
    "Below you can see the differrences between Exploratory and Explanatory analyses.\n",
    "\n",
    "   \n",
    "<div >\n",
    "<img src=\"../img/4.PNG\" alt=\"\" width=\"600\" height=\"400\" align=\"right\">\n",
    "</div>"
   ]
  },
  {
   "cell_type": "markdown",
   "metadata": {},
   "source": [
    "# Python Data Visualization Libraries\n",
    "\n",
    "We will make use of the following libraries for creating data visualizations:\n",
    "\n",
    "   * [Matplotlib](https://matplotlib.org/): a versatile library for visualizations, but it can take some code effort to put together common visualizations.\n",
    "    \n",
    "    \n",
    "   * [Seaborn](https://seaborn.pydata.org/): built on top of matplotlib, adds a number of functions to make common statistical visualizations easier to generate.\n",
    "    \n",
    "   * [pandas](https://pandas.pydata.org/): while this library includes some convenient methods for visualizing data that hook into matplotlib, we'll mainly be using it for its main purpose as a general tool for working with data.\n",
    "\n"
   ]
  },
  {
   "cell_type": "markdown",
   "metadata": {},
   "source": [
    "\n",
    "\n",
    "<p >\n",
    "<img src=\"../img/5.PNG\" alt=\"\" width=\"300\" height=\"300\" align=\"right\">\n",
    "</p>\n"
   ]
  },
  {
   "cell_type": "markdown",
   "metadata": {},
   "source": [
    "\n",
    "All together, these libraries will allow us to visualize data in a balance of productivity and flexibility, for both exploratory as well as explanatory analyses.\n",
    "\n",
    "**A Quick Note about Library Versions:**\n",
    "\n",
    "Some of the things that you see in this repo might not work the same depending on which version of the Python packages you have. For clarity, as of August 2018, here are the library versions that were used to create the repo materials:\n",
    "\n",
    "  * NumPy: Workspaces use v1.12.1, content created with v1.14.0\n",
    "  * pandas: Workspaces use v0.20.3, content created with v0.22.0\n",
    "  * Matplotlib: Workspaces use v2.1.0, content created with v2.1.2\n",
    "  * Seaborn: Workspaces and content both created with v0.8.1\n"
   ]
  },
  {
   "cell_type": "code",
   "execution_count": null,
   "metadata": {},
   "outputs": [],
   "source": []
  }
 ],
 "metadata": {
  "kernelspec": {
   "display_name": "Python 3",
   "language": "python",
   "name": "python3"
  },
  "language_info": {
   "codemirror_mode": {
    "name": "ipython",
    "version": 3
   },
   "file_extension": ".py",
   "mimetype": "text/x-python",
   "name": "python",
   "nbconvert_exporter": "python",
   "pygments_lexer": "ipython3",
   "version": "3.6.4"
  }
 },
 "nbformat": 4,
 "nbformat_minor": 2
}
