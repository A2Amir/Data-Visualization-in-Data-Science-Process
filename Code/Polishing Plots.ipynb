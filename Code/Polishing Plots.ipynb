{
 "cells": [
  {
   "cell_type": "markdown",
   "metadata": {},
   "source": [
    "# Polishing Plots\n",
    "\n",
    "In order to convey your findings to others quickly and efficiently, you'll need to put work into polishing your plots. There are many dimensions to consider when putting together a polished plot:"
   ]
  },
  {
   "cell_type": "markdown",
   "metadata": {},
   "source": [
    "## Choose an appropriate plot\n",
    "\n",
    "\n",
    "Your choice of plot will depend on the number of variables that you have and their types: **nominal, ordinal, discrete numeric, or continuous**. Choice of plot also depends on the **specific relationship** that you want to convey. For example, whether you choose a violin plot, box plot, or adapted bar chart depends on how much data you have and whether distributions are significant or important. You'll be more likely to use a violin plot if you have a lot of data and the distributions are meaningful, and more inclined to use a box plot or bar chart if you have less data, or the distributions are less reliable."
   ]
  },
  {
   "cell_type": "markdown",
   "metadata": {},
   "source": [
    "## Choose appropriate encodings\n",
    "\n",
    "Your variables should impact not just the type of plot that is chosen, but also the variable encodings. For example, if you have three numeric variables, you shouldn't just assign x-position, y-position, and color encodings randomly. In many cases, the two variables that are most important should take the positional encodings(if one represents an outcome or dependent variable, then it should be plotted on the y-axis). In other cases, it makes sense to plot the dependent measure with color, as though you are taking a top-down view of the plane defined by the two independent measures plotted on the axes."
   ]
  },
  {
   "cell_type": "markdown",
   "metadata": {},
   "source": [
    "## Pay attention to design integrity\n",
    "\n",
    "When setting up your plotting parameters, remember the design principles from earlier in this rtepository.\n",
    "\n",
    "Make sure that you minimize [chart junk](https://github.com/A2Amir/Data-Visualization-in-Data-Science-Process/blob/master/Code/What%20Experts%20Say%20About%20Visual%20Encodings.md) and maximize [the data-ink ratio](https://github.com/A2Amir/Data-Visualization-in-Data-Science-Process/blob/master/Code/What%20Experts%20Say%20About%20Visual%20Encodings.md), as far as it maintains good interpretability of the data. \n",
    "\n",
    "When deciding whether or not to add non-positional encodings, make sure that they are meaningful. For example, using color in a frequency bar chart may not be necessary on its own, but will be useful if those colors are used again later in the same presentation, matched with their original groups. By the same token, avoid using the same color scheme for different variables to minimize the chance of reader confusion.\n",
    "\n",
    "You should also ensure that your plot avoids lie factors as much as possible. If you have a bar chart or histogram, it is best to anchor them to a 0 baseline. If you're employing a scale transformation, signal this clearly in the title, axis labels, and tick marks."
   ]
  },
  {
   "cell_type": "markdown",
   "metadata": {},
   "source": [
    "## Label axes and choose appropriate tick marks\n",
    "\n",
    "For your positional axes, make sure you include axis labels. This is less important in exploration when you have the code available and have an extended flow to your work, but when you're conveying only the key pieces to others, it's crucial. When you add an axis label, make sure you also provide the units of measurement, if applicable (e.g., stating \"Height (cm)\" rather than just \"Height\").\n",
    "\n",
    "As for tick marks, you should include at least three tick marks on each axis. This is especially important for data that has been transformed(you want enough tick marks so that the scale of the data can be communicated there). If your values are very large or very small numbers, consider using abbreviations to relabel the ticks (e.g., use \"250K\" instead of \"250000\")."
   ]
  },
  {
   "cell_type": "markdown",
   "metadata": {},
   "source": [
    "## Provide legends for non-positional variables\n",
    "\n",
    "Make sure that you add a legend for variables not depicted on the axes of your plot. For color encoding, you can add a color bar to the side of the plot. The most important new thing here is that you provide a descriptive label to your legend or color bar, just as you would the axes of your plot.\n"
   ]
  },
  {
   "cell_type": "markdown",
   "metadata": {},
   "source": [
    "## Title your plot and include descriptive comments\n",
    "\n",
    "Finally, make sure that you provide a descriptive title to your plot. If this is a key plot that presents important findings to others, aim to create a title that draws attention to those main points, rather than just state what variables are plotted.\n",
    "\n",
    "Also, realize that while a visualization might be the core mechanism by which you convey findings, it need not stand alone. Comments in the text below or surrounding the plot can provide valuable context to help the reader understand your message, or reinforce the main points that they should have gotten."
   ]
  },
  {
   "cell_type": "markdown",
   "metadata": {},
   "source": [
    "# Using Matplotlib to Polish Plots"
   ]
  },
  {
   "cell_type": "markdown",
   "metadata": {},
   "source": [
    "Back in the [univariate plots lesson](https://github.com/A2Amir/Data-Visualization-in-Data-Science-Process/blob/master/Code/Univariate%20Exploration%20of%20Data.md), you were introduced to the general way that visualizations are structured in matplotlib and seaborn: each visualization is based off a single Figure, which contains one or more Axes, and each Axes houses elements like points, lines, and boxes that depict the plotted data. Understanding and making use of this structure will open up your ability to polish your visualizations. Each function below is linked to its documentation page and which object type it is associated with.\n",
    "\n",
    "\n",
    "* [figure](https://matplotlib.org/api/_as_gen/matplotlib.pyplot.figure.html) (Figure): Used to create a new figure. You'll use this first to initialize the figure, most often using the **\"figsize\"** parameter to set the figure dimensions.\n",
    "* [xlabel](https://matplotlib.org/api/_as_gen/matplotlib.pyplot.xlabel.html) and [ylabel](https://matplotlib.org/api/_as_gen/matplotlib.pyplot.ylabel.html) (Axes): Used for setting axis labels.\n",
    "\n",
    "* [xticks](https://matplotlib.org/api/_as_gen/matplotlib.pyplot.xticks.html) and [yticks](https://matplotlib.org/api/_as_gen/matplotlib.pyplot.yticks.html) (Axes): Used for setting tick marks.\n",
    "\n",
    "* [legend](https://matplotlib.org/api/_as_gen/matplotlib.pyplot.legend.html) (Axes): Used to create and customize a legend. One key parameter to use is **\"title\"**, which allows you to label what feature is being depicted in the legend. You might also need to make use of the **\"loc\" and \"ncol\"** parameters to move and shape the legend if it gets placed in an awkward location by default.\n",
    "\n",
    "* [colorbar](https://matplotlib.org/api/_as_gen/matplotlib.pyplot.colorbar.html) (Axes): Used to add a colorbar to a plot. Use the **\"label\"** parameter to set the label on a colorbar.\n",
    "\n",
    "* [title](https://matplotlib.org/api/_as_gen/matplotlib.pyplot.title.html) (Axes): Used for setting axis titles.\n",
    "\n",
    "* [suptitle]() (Figure): Used for setting figure titles. The main difference between suptitle and title is that the former sets a title for the Figure as a whole, and the latter for only a single Axes. This is an important distinction: if you're using **faceting or subplotting**, you'll want to use **suptitle** to set a title for the figure as a whole.\n"
   ]
  },
  {
   "cell_type": "markdown",
   "metadata": {},
   "source": [
    "**Below are a couple examples of these polishing functions in use.**\n",
    "\n",
    "This example makes use of the fuel economy dataset. Since a colorbar is being added to the plot, figsize is used to make the figure a little bit wider than normal. Title, axes, and colorbar are all labeled. Note how the units of each feature being plotted is given in parentheses in each label."
   ]
  },
  {
   "cell_type": "code",
   "execution_count": 6,
   "metadata": {},
   "outputs": [],
   "source": [
    "import pandas as pd\n",
    "import matplotlib.pyplot as plt\n",
    "import numpy as np\n"
   ]
  },
  {
   "cell_type": "code",
   "execution_count": 11,
   "metadata": {},
   "outputs": [],
   "source": [
    "fuel_econ = pd.read_csv('../Code/fuel-econ.csv')\n",
    "np.random.seed(2018)\n",
    "sample = np.random.choice(fuel_econ.shape[0], 200, replace = True)\n",
    "fuel_econ_subset = fuel_econ.loc[sample]"
   ]
  },
  {
   "cell_type": "code",
   "execution_count": 15,
   "metadata": {},
   "outputs": [
    {
     "data": {
      "text/plain": [
       "<matplotlib.collections.PathCollection at 0x2c056b67e80>"
      ]
     },
     "execution_count": 15,
     "metadata": {},
     "output_type": "execute_result"
    },
    {
     "data": {
      "image/png": "[encoded data removed]",
      "text/plain": [
       "<matplotlib.figure.Figure at 0x2c056217198>"
      ]
     },
     "metadata": {},
     "output_type": "display_data"
    }
   ],
   "source": [
    "# plotting the data\n",
    "plt.figure(figsize = [12,5])\n",
    "plt.scatter(data=fuel_econ_subset, x='displ', y='comb', c='co2', cmap='viridis_r')\n",
    "plt.title(''Fuel Efficiency and CO2 Output by Engine Size')"
   ]
  },
  {
   "cell_type": "code",
   "execution_count": null,
   "metadata": {},
   "outputs": [],
   "source": []
  }
 ],
 "metadata": {
  "kernelspec": {
   "display_name": "Python 3",
   "language": "python",
   "name": "python3"
  },
  "language_info": {
   "codemirror_mode": {
    "name": "ipython",
    "version": 3
   },
   "file_extension": ".py",
   "mimetype": "text/x-python",
   "name": "python",
   "nbconvert_exporter": "python",
   "pygments_lexer": "ipython3",
   "version": "3.6.4"
  }
 },
 "nbformat": 4,
 "nbformat_minor": 2
}
