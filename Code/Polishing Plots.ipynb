{
 "cells": [
  {
   "cell_type": "markdown",
   "metadata": {},
   "source": [
    "# Polishing Plots\n",
    "\n",
    "In order to convey your findings to others quickly and efficiently, you'll need to put work into polishing your plots. There are many dimensions to consider when putting together a polished plot:"
   ]
  },
  {
   "cell_type": "markdown",
   "metadata": {},
   "source": [
    "## Choose an appropriate plot\n",
    "\n",
    "\n",
    "Your choice of plot will depend on the number of variables that you have and their types: **nominal, ordinal, discrete numeric, or continuous**. Choice of plot also depends on the **specific relationship** that you want to convey. For example, whether you choose a violin plot, box plot, or adapted bar chart depends on how much data you have and whether distributions are significant or important. You'll be more likely to use a violin plot if you have a lot of data and the distributions are meaningful, and more inclined to use a box plot or bar chart if you have less data, or the distributions are less reliable."
   ]
  },
  {
   "cell_type": "markdown",
   "metadata": {},
   "source": [
    "## Choose appropriate encodings\n",
    "\n",
    "Your variables should impact not just the type of plot that is chosen, but also the variable encodings. For example, if you have three numeric variables, you shouldn't just assign x-position, y-position, and color encodings randomly. In many cases, the two variables that are most important should take the positional encodings(if one represents an outcome or dependent variable, then it should be plotted on the y-axis). In other cases, it makes sense to plot the dependent measure with color, as though you are taking a top-down view of the plane defined by the two independent measures plotted on the axes."
   ]
  },
  {
   "cell_type": "markdown",
   "metadata": {},
   "source": [
    "## Pay attention to design integrity\n",
    "\n",
    "When setting up your plotting parameters, remember the design principles from earlier in this rtepository.\n",
    "\n",
    "Make sure that you minimize [chart junk](https://github.com/A2Amir/Data-Visualization-in-Data-Science-Process/blob/master/Code/What%20Experts%20Say%20About%20Visual%20Encodings.md) and maximize [the data-ink ratio](https://github.com/A2Amir/Data-Visualization-in-Data-Science-Process/blob/master/Code/What%20Experts%20Say%20About%20Visual%20Encodings.md), as far as it maintains good interpretability of the data. \n",
    "\n",
    "When deciding whether or not to add non-positional encodings, make sure that they are meaningful. For example, using color in a frequency bar chart may not be necessary on its own, but will be useful if those colors are used again later in the same presentation, matched with their original groups. By the same token, avoid using the same color scheme for different variables to minimize the chance of reader confusion.\n",
    "\n",
    "You should also ensure that your plot avoids lie factors as much as possible. If you have a bar chart or histogram, it is best to anchor them to a 0 baseline. If you're employing a scale transformation, signal this clearly in the title, axis labels, and tick marks."
   ]
  },
  {
   "cell_type": "code",
   "execution_count": null,
   "metadata": {},
   "outputs": [],
   "source": []
  }
 ],
 "metadata": {
  "kernelspec": {
   "display_name": "Python 3",
   "language": "python",
   "name": "python3"
  },
  "language_info": {
   "codemirror_mode": {
    "name": "ipython",
    "version": 3
   },
   "file_extension": ".py",
   "mimetype": "text/x-python",
   "name": "python",
   "nbconvert_exporter": "python",
   "pygments_lexer": "ipython3",
   "version": "3.6.4"
  }
 },
 "nbformat": 4,
 "nbformat_minor": 2
}
